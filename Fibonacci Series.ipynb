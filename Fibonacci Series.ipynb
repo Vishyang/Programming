{
 "cells": [
  {
   "cell_type": "code",
   "execution_count": 7,
   "metadata": {},
   "outputs": [
    {
     "name": "stdout",
     "output_type": "stream",
     "text": [
      "Ente the number of elements you want to print:13\n",
      "0\n",
      "1\n",
      "1\n",
      "2\n",
      "3\n",
      "5\n",
      "8\n",
      "13\n",
      "21\n",
      "34\n",
      "55\n",
      "89\n",
      "144\n"
     ]
    }
   ],
   "source": [
    "n = int(input(\"Ente the number of elements you want to print:\"))\n",
    "first = 0\n",
    "second = 1\n",
    "temp = 0\n",
    "i=1\n",
    "if n > 0:\n",
    "    while i < n:\n",
    "        if i == 1:\n",
    "            print(first)\n",
    "        if i == 2:\n",
    "            print(second)\n",
    "        else:\n",
    "            temp = first + second\n",
    "            first = second\n",
    "            second = temp\n",
    "            print(temp)\n",
    "        i+=1\n",
    "else:\n",
    "    print(\"Number of elements can't be negative/float\")"
   ]
  }
 ],
 "metadata": {
  "kernelspec": {
   "display_name": "Python 3",
   "language": "python",
   "name": "python3"
  },
  "language_info": {
   "codemirror_mode": {
    "name": "ipython",
    "version": 3
   },
   "file_extension": ".py",
   "mimetype": "text/x-python",
   "name": "python",
   "nbconvert_exporter": "python",
   "pygments_lexer": "ipython3",
   "version": "3.8.3"
  }
 },
 "nbformat": 4,
 "nbformat_minor": 4
}
