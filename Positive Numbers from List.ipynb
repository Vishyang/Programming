{
 "cells": [
  {
   "cell_type": "code",
   "execution_count": 2,
   "metadata": {},
   "outputs": [
    {
     "name": "stdout",
     "output_type": "stream",
     "text": [
      "Enter number of elements : 10\n",
      "2\n",
      "3\n",
      "-4\n",
      "-6\n",
      "3\n",
      "-1\n",
      "1\n",
      "5\n",
      "-5\n",
      "-10\n",
      "2 3 3 1 5 "
     ]
    }
   ],
   "source": [
    "l = []  \n",
    "n = int(input(\"Enter number of elements : \"))  \n",
    "for i in range(0, n): \n",
    "    x = int(input()) \n",
    "    l.append(x) \n",
    "for ele in l:\n",
    "    if ele > 0:\n",
    "        print(ele,end = \" \")"
   ]
  }
 ],
 "metadata": {
  "kernelspec": {
   "display_name": "Python 3",
   "language": "python",
   "name": "python3"
  },
  "language_info": {
   "codemirror_mode": {
    "name": "ipython",
    "version": 3
   },
   "file_extension": ".py",
   "mimetype": "text/x-python",
   "name": "python",
   "nbconvert_exporter": "python",
   "pygments_lexer": "ipython3",
   "version": "3.8.3"
  }
 },
 "nbformat": 4,
 "nbformat_minor": 4
}
