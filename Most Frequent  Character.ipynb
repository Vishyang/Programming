{
 "cells": [
  {
   "cell_type": "code",
   "execution_count": 2,
   "metadata": {},
   "outputs": [
    {
     "name": "stdout",
     "output_type": "stream",
     "text": [
      "Enter a string to cpunt frequency of characters:mississippi\n",
      "{'i': 4, 's': 4, 'p': 2, 'm': 1}\n"
     ]
    }
   ],
   "source": [
    "import operator\n",
    "def most_frequent(str):\n",
    "    all_freq = {}\n",
    "    for n in str:\n",
    "        keys = all_freq.keys()\n",
    "        if n in keys:\n",
    "            all_freq[n] += 1\n",
    "        else:\n",
    "            all_freq[n] = 1\n",
    "    desc = dict(sorted(all_freq.items(), key=operator.itemgetter(1),reverse=True))\n",
    "    return desc\n",
    "str1 = input(\"Enter a string to cpunt frequency of characters:\")\n",
    "print(most_frequent(str1))"
   ]
  }
 ],
 "metadata": {
  "kernelspec": {
   "display_name": "Python 3",
   "language": "python",
   "name": "python3"
  },
  "language_info": {
   "codemirror_mode": {
    "name": "ipython",
    "version": 3
   },
   "file_extension": ".py",
   "mimetype": "text/x-python",
   "name": "python",
   "nbconvert_exporter": "python",
   "pygments_lexer": "ipython3",
   "version": "3.8.3"
  }
 },
 "nbformat": 4,
 "nbformat_minor": 4
}
